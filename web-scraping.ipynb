{
 "cells": [
  {
   "cell_type": "markdown",
   "id": "853ad5b0",
   "metadata": {},
   "source": [
    "## Google Scholar scraping"
   ]
  },
  {
   "cell_type": "markdown",
   "id": "cfb9c762",
   "metadata": {},
   "source": [
    "Import all the necessary libraries:"
   ]
  },
  {
   "cell_type": "code",
   "execution_count": 1,
   "id": "77f85007",
   "metadata": {},
   "outputs": [],
   "source": [
    "import requests\n",
    "from bs4 import BeautifulSoup\n",
    "import scrapy\n",
    "from scrapy.crawler import CrawlerProcess\n",
    "import csv"
   ]
  },
  {
   "cell_type": "markdown",
   "id": "d2534116",
   "metadata": {},
   "source": [
    "Send test requests to make sure that resource is reachable:"
   ]
  },
  {
   "cell_type": "code",
   "execution_count": 2,
   "id": "bae1b81e",
   "metadata": {},
   "outputs": [
    {
     "name": "stdout",
     "output_type": "stream",
     "text": [
      "200\n",
      "200\n",
      "200\n"
     ]
    }
   ],
   "source": [
    "urls = ['https://scholar.google.com/scholar?start=0&q=web+parsing&hl=en&as_sdt=0,5',\n",
    "        'https://scholar.google.com/scholar?start=10&q=web+parsing&hl=en&as_sdt=0,5',\n",
    "        'https://scholar.google.com/scholar?start=20&q=web+parsing&hl=en&as_sdt=0,5']\n",
    "for url in urls:\n",
    "    try:\n",
    "        data = requests.get(url, timeout=3)\n",
    "        data.raise_for_status()\n",
    "    except requests.exceptions.HTTPError as errh:\n",
    "        print(\"Http Error: \", errh)\n",
    "    except requests.exceptions.ConnectionError as errc:\n",
    "        print(\"Error Connecting: \",errc)\n",
    "    except requests.exceptions.Timeout as errt:\n",
    "        print(\"Timeout Error: \", errt)\n",
    "    except requests.exceptions.RequestException as err:\n",
    "        print(\"Another Error:\", err)\n",
    "    else: \n",
    "        print(data.status_code)"
   ]
  },
  {
   "cell_type": "markdown",
   "id": "c97e39b2",
   "metadata": {},
   "source": [
    "Create scraping class with parsing function:"
   ]
  },
  {
   "cell_type": "code",
   "execution_count": 3,
   "id": "1a2c0d30",
   "metadata": {},
   "outputs": [],
   "source": [
    "articles_list = []\n",
    "\n",
    "class ArticleSpider(scrapy.Spider):\n",
    "    name = 'article'\n",
    "\n",
    "    def start_requests(self):\n",
    "        urls = ['https://scholar.google.com/scholar?start=0&q=web+parsing&hl=en&as_sdt=0,5',\n",
    "                'https://scholar.google.com/scholar?start=10&q=web+parsing&hl=en&as_sdt=0,5',\n",
    "                'https://scholar.google.com/scholar?start=20&q=web+parsing&hl=en&as_sdt=0,5']\n",
    "        return [scrapy.Request(url=url, callback=self.parse) for url in urls]\n",
    "\n",
    "    def parse(self, response):\n",
    "        bs = BeautifulSoup(response.text, 'html.parser')\n",
    "        articles = bs.find_all('div', {'class': 'gs_ri'})\n",
    "\n",
    "        for article in articles:\n",
    "            article_title = article.find('h3').find('a').text.encode(\"ascii\", \"ignore\").decode()\n",
    "            article_authors = article.find('div', {'class': 'gs_a'}).text\n",
    "            article_authors = article_authors[:article_authors.find('-') - 1].encode(\"ascii\", \"ignore\").decode()\n",
    "            article_pubication_year = article.find('div', {'class': 'gs_a'}).text\n",
    "            article_pubication_year = article_pubication_year[(article_pubication_year.rindex('- ') - 5):(article_pubication_year.rindex('- '))]\n",
    "            article_partial_text = article.find('div', {'class': 'gs_rs'}).text.replace('\\n', '').encode(\"ascii\", \"ignore\").decode()\n",
    "            \n",
    "            articles_list.append([article_title, article_authors, article_pubication_year, article_partial_text])"
   ]
  },
  {
   "cell_type": "markdown",
   "id": "b587f7ea",
   "metadata": {},
   "source": [
    "Start scraping process:"
   ]
  },
  {
   "cell_type": "code",
   "execution_count": 4,
   "id": "64310ee1",
   "metadata": {
    "scrolled": false
   },
   "outputs": [
    {
     "name": "stderr",
     "output_type": "stream",
     "text": [
      "2022-10-12 17:02:46 [scrapy.utils.log] INFO: Scrapy 2.6.3 started (bot: scrapybot)\n",
      "2022-10-12 17:02:46 [scrapy.utils.log] INFO: Versions: lxml 4.9.1.0, libxml2 2.9.12, cssselect 1.1.0, parsel 1.6.0, w3lib 2.0.1, Twisted 22.8.0, Python 3.10.4 (tags/v3.10.4:9d38120, Mar 23 2022, 23:13:41) [MSC v.1929 64 bit (AMD64)], pyOpenSSL 22.0.0 (OpenSSL 1.1.1n  15 Mar 2022), cryptography 36.0.2, Platform Windows-10-10.0.19044-SP0\n",
      "2022-10-12 17:02:46 [scrapy.crawler] INFO: Overridden settings:\n",
      "{}\n",
      "2022-10-12 17:02:46 [scrapy.utils.log] DEBUG: Using reactor: twisted.internet.selectreactor.SelectReactor\n",
      "2022-10-12 17:02:46 [scrapy.extensions.telnet] INFO: Telnet Password: 95e7282c6d6cc5a9\n",
      "2022-10-12 17:02:46 [scrapy.middleware] INFO: Enabled extensions:\n",
      "['scrapy.extensions.corestats.CoreStats',\n",
      " 'scrapy.extensions.telnet.TelnetConsole',\n",
      " 'scrapy.extensions.logstats.LogStats']\n",
      "2022-10-12 17:02:46 [scrapy.middleware] INFO: Enabled downloader middlewares:\n",
      "['scrapy.downloadermiddlewares.httpauth.HttpAuthMiddleware',\n",
      " 'scrapy.downloadermiddlewares.downloadtimeout.DownloadTimeoutMiddleware',\n",
      " 'scrapy.downloadermiddlewares.defaultheaders.DefaultHeadersMiddleware',\n",
      " 'scrapy.downloadermiddlewares.useragent.UserAgentMiddleware',\n",
      " 'scrapy.downloadermiddlewares.retry.RetryMiddleware',\n",
      " 'scrapy.downloadermiddlewares.redirect.MetaRefreshMiddleware',\n",
      " 'scrapy.downloadermiddlewares.httpcompression.HttpCompressionMiddleware',\n",
      " 'scrapy.downloadermiddlewares.redirect.RedirectMiddleware',\n",
      " 'scrapy.downloadermiddlewares.cookies.CookiesMiddleware',\n",
      " 'scrapy.downloadermiddlewares.httpproxy.HttpProxyMiddleware',\n",
      " 'scrapy.downloadermiddlewares.stats.DownloaderStats']\n",
      "2022-10-12 17:02:46 [scrapy.middleware] INFO: Enabled spider middlewares:\n",
      "['scrapy.spidermiddlewares.httperror.HttpErrorMiddleware',\n",
      " 'scrapy.spidermiddlewares.offsite.OffsiteMiddleware',\n",
      " 'scrapy.spidermiddlewares.referer.RefererMiddleware',\n",
      " 'scrapy.spidermiddlewares.urllength.UrlLengthMiddleware',\n",
      " 'scrapy.spidermiddlewares.depth.DepthMiddleware']\n",
      "2022-10-12 17:02:46 [scrapy.middleware] INFO: Enabled item pipelines:\n",
      "[]\n",
      "2022-10-12 17:02:46 [scrapy.core.engine] INFO: Spider opened\n",
      "2022-10-12 17:02:46 [scrapy.extensions.logstats] INFO: Crawled 0 pages (at 0 pages/min), scraped 0 items (at 0 items/min)\n",
      "2022-10-12 17:02:46 [scrapy.extensions.telnet] INFO: Telnet console listening on 127.0.0.1:6023\n",
      "2022-10-12 17:02:47 [filelock] DEBUG: Attempting to acquire lock 1751369517424 on C:\\Users\\Yuniya\\AppData\\Local\\Programs\\Python\\Python310\\lib\\site-packages\\tldextract\\.suffix_cache/publicsuffix.org-tlds\\de84b5ca2167d4c83e38fb162f2e8738.tldextract.json.lock\n",
      "2022-10-12 17:02:47 [filelock] DEBUG: Lock 1751369517424 acquired on C:\\Users\\Yuniya\\AppData\\Local\\Programs\\Python\\Python310\\lib\\site-packages\\tldextract\\.suffix_cache/publicsuffix.org-tlds\\de84b5ca2167d4c83e38fb162f2e8738.tldextract.json.lock\n",
      "2022-10-12 17:02:47 [filelock] DEBUG: Attempting to release lock 1751369517424 on C:\\Users\\Yuniya\\AppData\\Local\\Programs\\Python\\Python310\\lib\\site-packages\\tldextract\\.suffix_cache/publicsuffix.org-tlds\\de84b5ca2167d4c83e38fb162f2e8738.tldextract.json.lock\n",
      "2022-10-12 17:02:47 [filelock] DEBUG: Lock 1751369517424 released on C:\\Users\\Yuniya\\AppData\\Local\\Programs\\Python\\Python310\\lib\\site-packages\\tldextract\\.suffix_cache/publicsuffix.org-tlds\\de84b5ca2167d4c83e38fb162f2e8738.tldextract.json.lock\n",
      "2022-10-12 17:02:47 [scrapy.core.engine] DEBUG: Crawled (200) <GET https://scholar.google.com/scholar?start=0&q=web+parsing&hl=en&as_sdt=0,5> (referer: None)\n",
      "2022-10-12 17:02:47 [scrapy.core.engine] DEBUG: Crawled (200) <GET https://scholar.google.com/scholar?start=20&q=web+parsing&hl=en&as_sdt=0,5> (referer: None)\n",
      "2022-10-12 17:02:47 [scrapy.core.engine] DEBUG: Crawled (200) <GET https://scholar.google.com/scholar?start=10&q=web+parsing&hl=en&as_sdt=0,5> (referer: None)\n",
      "2022-10-12 17:02:47 [scrapy.core.engine] INFO: Closing spider (finished)\n",
      "2022-10-12 17:02:47 [scrapy.statscollectors] INFO: Dumping Scrapy stats:\n",
      "{'downloader/request_bytes': 794,\n",
      " 'downloader/request_count': 3,\n",
      " 'downloader/request_method_count/GET': 3,\n",
      " 'downloader/response_bytes': 118707,\n",
      " 'downloader/response_count': 3,\n",
      " 'downloader/response_status_count/200': 3,\n",
      " 'elapsed_time_seconds': 1.238722,\n",
      " 'finish_reason': 'finished',\n",
      " 'finish_time': datetime.datetime(2022, 10, 12, 14, 2, 47, 842629),\n",
      " 'httpcompression/response_bytes': 467892,\n",
      " 'httpcompression/response_count': 3,\n",
      " 'log_count/DEBUG': 8,\n",
      " 'log_count/INFO': 10,\n",
      " 'response_received_count': 3,\n",
      " 'scheduler/dequeued': 3,\n",
      " 'scheduler/dequeued/memory': 3,\n",
      " 'scheduler/enqueued': 3,\n",
      " 'scheduler/enqueued/memory': 3,\n",
      " 'start_time': datetime.datetime(2022, 10, 12, 14, 2, 46, 603907)}\n",
      "2022-10-12 17:02:47 [scrapy.core.engine] INFO: Spider closed (finished)\n"
     ]
    }
   ],
   "source": [
    "process = CrawlerProcess()\n",
    "process.crawl(ArticleSpider)\n",
    "process.start()"
   ]
  },
  {
   "cell_type": "markdown",
   "id": "76cbcd7a",
   "metadata": {},
   "source": [
    "Export data into the file:"
   ]
  },
  {
   "cell_type": "code",
   "execution_count": 5,
   "id": "89c8f314",
   "metadata": {},
   "outputs": [],
   "source": [
    "with open ('articles.csv', 'w') as file:\n",
    "    writer = csv.writer(file, delimiter=';')\n",
    "    writer.writerow('title;authors;publication_year;partial_text'.split(';'))\n",
    "    for row in articles_list:\n",
    "        writer.writerow(';'.join(row).split(';'))"
   ]
  }
 ],
 "metadata": {
  "kernelspec": {
   "display_name": "Python 3 (ipykernel)",
   "language": "python",
   "name": "python3"
  },
  "language_info": {
   "codemirror_mode": {
    "name": "ipython",
    "version": 3
   },
   "file_extension": ".py",
   "mimetype": "text/x-python",
   "name": "python",
   "nbconvert_exporter": "python",
   "pygments_lexer": "ipython3",
   "version": "3.10.4"
  }
 },
 "nbformat": 4,
 "nbformat_minor": 5
}
